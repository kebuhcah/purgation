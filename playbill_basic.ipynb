{
 "cells": [
  {
   "cell_type": "code",
   "execution_count": 2,
   "metadata": {
    "collapsed": false
   },
   "outputs": [],
   "source": [
    "from urllib2 import urlopen, Request\n",
    "from bs4 import BeautifulSoup\n",
    "from pandas import DataFrame\n",
    "import pandas as pd\n",
    "import numpy as np\n",
    "import re\n",
    "import os.path \n",
    "import datetime \n",
    "\n",
    "from __future__ import division\n",
    "\n",
    "import nltk,re, pprint\n",
    "\n"
   ]
  },
  {
   "cell_type": "code",
   "execution_count": null,
   "metadata": {
    "collapsed": true
   },
   "outputs": [],
   "source": [
    "from nltk.book import *"
   ]
  },
  {
   "cell_type": "code",
   "execution_count": 2,
   "metadata": {
    "collapsed": false
   },
   "outputs": [
    {
     "data": {
      "text/plain": [
       "[u'austen-emma.txt',\n",
       " u'austen-persuasion.txt',\n",
       " u'austen-sense.txt',\n",
       " u'bible-kjv.txt',\n",
       " u'blake-poems.txt',\n",
       " u'bryant-stories.txt',\n",
       " u'burgess-busterbrown.txt',\n",
       " u'carroll-alice.txt',\n",
       " u'chesterton-ball.txt',\n",
       " u'chesterton-brown.txt',\n",
       " u'chesterton-thursday.txt',\n",
       " u'edgeworth-parents.txt',\n",
       " u'melville-moby_dick.txt',\n",
       " u'milton-paradise.txt',\n",
       " u'shakespeare-caesar.txt',\n",
       " u'shakespeare-hamlet.txt',\n",
       " u'shakespeare-macbeth.txt',\n",
       " u'whitman-leaves.txt']"
      ]
     },
     "execution_count": 2,
     "metadata": {},
     "output_type": "execute_result"
    }
   ],
   "source": [
    "nltk.corpus.gutenberg.fileids()\n"
   ]
  },
  {
   "cell_type": "code",
   "execution_count": 8,
   "metadata": {
    "collapsed": false
   },
   "outputs": [],
   "source": [
    "emma = nltk.Text(nltk.corpus.gutenberg.words('austen-emma.txt'))\n"
   ]
  },
  {
   "cell_type": "code",
   "execution_count": 10,
   "metadata": {
    "collapsed": false
   },
   "outputs": [
    {
     "name": "stdout",
     "output_type": "stream",
     "text": [
      "Frank Churchill; Miss Woodhouse; Miss Bates; Jane Fairfax; Miss\n",
      "Fairfax; every thing; young man; every body; great deal; dare say;\n",
      "John Knightley; Maple Grove; Miss Smith; Miss Taylor; Robert Martin;\n",
      "Colonel Campbell; Box Hill; said Emma; Harriet Smith; William Larkins\n"
     ]
    }
   ],
   "source": [
    "emma.collocations()"
   ]
  },
  {
   "cell_type": "code",
   "execution_count": 11,
   "metadata": {
    "collapsed": false
   },
   "outputs": [],
   "source": [
    "from nltk.corpus import webtext\n"
   ]
  },
  {
   "cell_type": "code",
   "execution_count": 17,
   "metadata": {
    "collapsed": false
   },
   "outputs": [
    {
     "data": {
      "text/plain": [
       "u'White guy: So, do you have any plans for this evening?\\nAsian girl: Yeah, being angry!\\nWhite guy: Oh, that sounds good.'"
      ]
     },
     "execution_count": 17,
     "metadata": {},
     "output_type": "execute_result"
    }
   ],
   "source": [
    "webtext.raw('overheard.txt').split('\\n\\n')[0]"
   ]
  },
  {
   "cell_type": "code",
   "execution_count": null,
   "metadata": {
    "collapsed": false
   },
   "outputs": [],
   "source": [
    "fdist1['whale']\n"
   ]
  },
  {
   "cell_type": "code",
   "execution_count": null,
   "metadata": {
    "collapsed": true
   },
   "outputs": [],
   "source": [
    "fdist1.plot(50, cumulative=True)"
   ]
  },
  {
   "cell_type": "code",
   "execution_count": 29,
   "metadata": {
    "collapsed": false
   },
   "outputs": [
    {
     "name": "stdout",
     "output_type": "stream",
     "text": [
      "पूर्ण प्रतिबंध हटाओ : इराक संयुक्त राष्ट्र । इराक के विदेश मंत्री ने अमरीका के उस प्रस्ताव का मजाक उड़ाया है , जिसमें अमरीका ने संयुक्त राष्ट्र के प्रतिबंधों को इराकी नागरिकों के लिए कम हानिकारक बनाने के लिए कहा है । विदेश मंत्री का कहना है कि चूंकि बगदाद संयुक्त राष्ट्र की मांगों का पालन करते हुए अपने भारी विनाशकारी हथियारों को नष्ट कर रहा है । लिहाजा प्रतिबंधों को पूर्ण रूप से उठा दिया जाना चाहिए । विदेश मंत्री मोहम्मद सईद का कहना है कि वे इसे 'सुव्यवस्थित प्रतिबंध' कह कर आम राय और सुरक्षा परिषद को छल\n"
     ]
    }
   ],
   "source": [
    "print ' '.join(list(nltk.corpus.indian.words('hindi.pos')[:100]))\n"
   ]
  },
  {
   "cell_type": "code",
   "execution_count": 50,
   "metadata": {
    "collapsed": false
   },
   "outputs": [
    {
     "name": "stdout",
     "output_type": "stream",
     "text": [
      "ప్రత్యేక శ్రద్ధ; ఆడిట్ నిర్వహణ; ఆడిట్ కార్యక్రమం; రాజనీతి శాస్త్రము;\n",
      "ఇనుప పంజరం; పని కాగితాలు; అటూ ఇటూ; అంతర్గత తనిఖీ; మానవుడు సంఘజీవి;\n",
      "రక్త కణాలు; రాజనీతి శాస్త్రం; నోటు పుస్తకం; లూయీ పాశ్చర్; చేసిన పని;\n",
      "వీలు లేదు; ఆడిట్ రిపోర్టు; శాంతి భద్రతలు; సంస్థాపన పత్రం; ఆడిట్ పని;\n",
      "ఆడిట్ ప్రణాళిక\n"
     ]
    }
   ],
   "source": [
    "nltk.Text(nltk.corpus.indian.words('telugu.pos')).collocations()"
   ]
  },
  {
   "cell_type": "code",
   "execution_count": 36,
   "metadata": {
    "collapsed": false
   },
   "outputs": [
    {
     "data": {
      "text/plain": [
       "[u'Abkhaz-Cyrillic+Abkh',\n",
       " u'Abkhaz-UTF8',\n",
       " u'Achehnese-Latin1',\n",
       " u'Achuar-Shiwiar-Latin1',\n",
       " u'Adja-UTF8',\n",
       " u'Afaan_Oromo_Oromiffa-Latin1',\n",
       " u'Afrikaans-Latin1',\n",
       " u'Aguaruna-Latin1',\n",
       " u'Akuapem_Twi-UTF8',\n",
       " u'Albanian_Shqip-Latin1',\n",
       " u'Amahuaca',\n",
       " u'Amahuaca-Latin1',\n",
       " u'Amarakaeri-Latin1',\n",
       " u'Amuesha-Yanesha-UTF8',\n",
       " u'Arabela-Latin1',\n",
       " u'Arabic_Alarabia-Arabic',\n",
       " u'Asante-UTF8',\n",
       " u'Ashaninca-Latin1',\n",
       " u'Asheninca-Latin1',\n",
       " u'Asturian_Bable-Latin1',\n",
       " u'Aymara-Latin1',\n",
       " u'Balinese-Latin1',\n",
       " u'Bambara-UTF8',\n",
       " u'Baoule-UTF8',\n",
       " u'Basque_Euskara-Latin1',\n",
       " u'Batonu_Bariba-UTF8',\n",
       " u'Belorus_Belaruski-Cyrillic',\n",
       " u'Belorus_Belaruski-UTF8',\n",
       " u'Bemba-Latin1',\n",
       " u'Bengali-UTF8',\n",
       " u'Beti-UTF8',\n",
       " u'Bichelamar-Latin1',\n",
       " u'Bikol_Bicolano-Latin1',\n",
       " u'Bora-Latin1',\n",
       " u'Bosnian_Bosanski-Cyrillic',\n",
       " u'Bosnian_Bosanski-Latin2',\n",
       " u'Bosnian_Bosanski-UTF8',\n",
       " u'Breton-Latin1',\n",
       " u'Bugisnese-Latin1',\n",
       " u'Bulgarian_Balgarski-Cyrillic',\n",
       " u'Bulgarian_Balgarski-UTF8',\n",
       " u'Cakchiquel-Latin1',\n",
       " u'Campa_Pajonalino-Latin1',\n",
       " u'Candoshi-Shapra-Latin1',\n",
       " u'Caquinte-Latin1',\n",
       " u'Cashibo-Cacataibo-Latin1',\n",
       " u'Cashinahua-Latin1',\n",
       " u'Catalan-Latin1',\n",
       " u'Catalan_Catala-Latin1',\n",
       " u'Cebuano-Latin1',\n",
       " u'Chamorro-Latin1',\n",
       " u'Chayahuita-Latin1',\n",
       " u'Chechewa_Nyanja-Latin1',\n",
       " u'Chickasaw-Latin1',\n",
       " u'Chinanteco-Ajitlan-Latin1',\n",
       " u'Chinanteco-UTF8',\n",
       " u'Chinese_Mandarin-GB2312',\n",
       " u'Chuuk_Trukese-Latin1',\n",
       " u'Cokwe-Latin1',\n",
       " u'Corsican-Latin1',\n",
       " u'Croatian_Hrvatski-Latin2',\n",
       " u'Czech-Latin2',\n",
       " u'Czech-UTF8',\n",
       " u'Czech_Cesky-Latin2',\n",
       " u'Czech_Cesky-UTF8',\n",
       " u'Dagaare-UTF8',\n",
       " u'Dagbani-UTF8',\n",
       " u'Dangme-UTF8',\n",
       " u'Danish_Dansk-Latin1',\n",
       " u'Dendi-UTF8',\n",
       " u'Ditammari-UTF8',\n",
       " u'Dutch_Nederlands-Latin1',\n",
       " u'Edo-Latin1',\n",
       " u'English-Latin1',\n",
       " u'Esperanto-UTF8',\n",
       " u'Estonian_Eesti-Latin1',\n",
       " u'Ewe_Eve-UTF8',\n",
       " u'Fante-UTF8',\n",
       " u'Faroese-Latin1',\n",
       " u'Farsi_Persian-UTF8',\n",
       " u'Farsi_Persian-v2-UTF8',\n",
       " u'Fijian-Latin1',\n",
       " u'Filipino_Tagalog-Latin1',\n",
       " u'Finnish_Suomi-Latin1',\n",
       " u'Fon-UTF8',\n",
       " u'French_Francais-Latin1',\n",
       " u'Frisian-Latin1',\n",
       " u'Friulian_Friulano-Latin1',\n",
       " u'Ga-UTF8',\n",
       " u'Gagauz_Gagauzi-UTF8',\n",
       " u'Galician_Galego-Latin1',\n",
       " u'Garifuna_Garifuna-Latin1',\n",
       " u'German_Deutsch-Latin1',\n",
       " u'Gonja-UTF8',\n",
       " u'Greek_Ellinika-Greek',\n",
       " u'Greek_Ellinika-UTF8',\n",
       " u'Greenlandic_Inuktikut-Latin1',\n",
       " u'Guarani-Latin1',\n",
       " u'Guen_Mina-UTF8',\n",
       " u'HaitianCreole_Kreyol-Latin1',\n",
       " u'HaitianCreole_Popular-Latin1',\n",
       " u'Hani-Latin1',\n",
       " u'Hausa_Haoussa-Latin1',\n",
       " u'Hawaiian-UTF8',\n",
       " u'Hebrew_Ivrit-Hebrew',\n",
       " u'Hebrew_Ivrit-UTF8',\n",
       " u'Hiligaynon-Latin1',\n",
       " u'Hindi-UTF8',\n",
       " u'Hindi_web-UTF8',\n",
       " u'Hmong_Miao-Sichuan-Guizhou-Yunnan-Latin1',\n",
       " u'Hmong_Miao-SouthernEast-Guizhou-Latin1',\n",
       " u'Hmong_Miao_Northern-East-Guizhou-Latin1',\n",
       " u'Hrvatski_Croatian-Latin2',\n",
       " u'Huasteco-Latin1',\n",
       " u'Huitoto_Murui-Latin1',\n",
       " u'Hungarian_Magyar-Latin1',\n",
       " u'Hungarian_Magyar-Latin2',\n",
       " u'Hungarian_Magyar-UTF8',\n",
       " u'Ibibio_Efik-Latin1',\n",
       " u'Icelandic_Yslenska-Latin1',\n",
       " u'Ido-Latin1',\n",
       " u'Igbo-UTF8',\n",
       " u'Iloko_Ilocano-Latin1',\n",
       " u'Indonesian-Latin1',\n",
       " u'Interlingua-Latin1',\n",
       " u'Inuktikut_Greenlandic-Latin1',\n",
       " u'IrishGaelic_Gaeilge-Latin1',\n",
       " u'Italian-Latin1',\n",
       " u'Italian_Italiano-Latin1',\n",
       " u'Japanese_Nihongo-EUC',\n",
       " u'Japanese_Nihongo-SJIS',\n",
       " u'Japanese_Nihongo-UTF8',\n",
       " u'Javanese-Latin1',\n",
       " u'Jola-Fogny_Diola-UTF8',\n",
       " u'Kabye-UTF8',\n",
       " u'Kannada-UTF8',\n",
       " u'Kaonde-Latin1',\n",
       " u'Kapampangan-Latin1',\n",
       " u'Kasem-UTF8',\n",
       " u'Kazakh-Cyrillic',\n",
       " u'Kazakh-UTF8',\n",
       " u'Kiche_Quiche-Latin1',\n",
       " u'Kicongo-Latin1',\n",
       " u'Kimbundu_Mbundu-Latin1',\n",
       " u'Kinyamwezi_Nyamwezi-Latin1',\n",
       " u'Kinyarwanda-Latin1',\n",
       " u'Kituba-Latin1',\n",
       " u'Korean_Hankuko-UTF8',\n",
       " u'Kpelewo-UTF8',\n",
       " u'Krio-UTF8',\n",
       " u'Kurdish-UTF8',\n",
       " u'Lamnso_Lam-nso-UTF8',\n",
       " u'Latin_Latina-Latin1',\n",
       " u'Latin_Latina-v2-Latin1',\n",
       " u'Latvian-Latin1',\n",
       " u'Limba-UTF8',\n",
       " u'Lingala-Latin1',\n",
       " u'Lithuanian_Lietuviskai-Baltic',\n",
       " u'Lozi-Latin1',\n",
       " u'Luba-Kasai_Tshiluba-Latin1',\n",
       " u'Luganda_Ganda-Latin1',\n",
       " u'Lunda_Chokwe-lunda-Latin1',\n",
       " u'Luvale-Latin1',\n",
       " u'Luxembourgish_Letzebuergeusch-Latin1',\n",
       " u'Macedonian-UTF8',\n",
       " u'Madurese-Latin1',\n",
       " u'Makonde-Latin1',\n",
       " u'Malagasy-Latin1',\n",
       " u'Malay_BahasaMelayu-Latin1',\n",
       " u'Maltese-UTF8',\n",
       " u'Mam-Latin1',\n",
       " u'Maninka-UTF8',\n",
       " u'Maori-Latin1',\n",
       " u'Mapudungun_Mapuzgun-Latin1',\n",
       " u'Mapudungun_Mapuzgun-UTF8',\n",
       " u'Marshallese-Latin1',\n",
       " u'Matses-Latin1',\n",
       " u'Mayan_Yucateco-Latin1',\n",
       " u'Mazahua_Jnatrjo-UTF8',\n",
       " u'Mazateco-Latin1',\n",
       " u'Mende-UTF8',\n",
       " u'Mikmaq_Micmac-Mikmaq-Latin1',\n",
       " u'Minangkabau-Latin1',\n",
       " u'Miskito_Miskito-Latin1',\n",
       " u'Mixteco-Latin1',\n",
       " u'Mongolian_Khalkha-Cyrillic',\n",
       " u'Mongolian_Khalkha-UTF8',\n",
       " u'Moore_More-UTF8',\n",
       " u'Nahuatl-Latin1',\n",
       " u'Ndebele-Latin1',\n",
       " u'Nepali-UTF8',\n",
       " u'Ngangela_Nyemba-Latin1',\n",
       " u'NigerianPidginEnglish-Latin1',\n",
       " u'Nomatsiguenga-Latin1',\n",
       " u'NorthernSotho_Pedi-Sepedi-Latin1',\n",
       " u'Norwegian-Latin1',\n",
       " u'Norwegian_Norsk-Bokmal-Latin1',\n",
       " u'Norwegian_Norsk-Nynorsk-Latin1',\n",
       " u'Nyanja_Chechewa-Latin1',\n",
       " u'Nyanja_Chinyanja-Latin1',\n",
       " u'Nzema-UTF8',\n",
       " u'OccitanAuvergnat-Latin1',\n",
       " u'OccitanLanguedocien-Latin1',\n",
       " u'Oromiffa_AfaanOromo-Latin1',\n",
       " u'Osetin_Ossetian-UTF8',\n",
       " u'Oshiwambo_Ndonga-Latin1',\n",
       " u'Otomi_Nahnu-Latin1',\n",
       " u'Paez-Latin1',\n",
       " u'Palauan-Latin1',\n",
       " u'Peuhl-UTF8',\n",
       " u'Picard-Latin1',\n",
       " u'Pipil-Latin1',\n",
       " u'Polish-Latin2',\n",
       " u'Polish_Polski-Latin2',\n",
       " u'Ponapean-Latin1',\n",
       " u'Portuguese_Portugues-Latin1',\n",
       " u'Pulaar-UTF8',\n",
       " u'Punjabi_Panjabi-UTF8',\n",
       " u'Purhepecha-UTF8',\n",
       " u'Qechi_Kekchi-Latin1',\n",
       " u'Quechua-Latin1',\n",
       " u'Quichua-Latin1',\n",
       " u'Rarotongan_MaoriCookIslands-Latin1',\n",
       " u'Rhaeto-Romance_Rumantsch-Latin1',\n",
       " u'Romani-Latin1',\n",
       " u'Romani-UTF8',\n",
       " u'Romanian-Latin2',\n",
       " u'Romanian_Romana-Latin2',\n",
       " u'Rukonzo_Konjo-Latin1',\n",
       " u'Rundi_Kirundi-Latin1',\n",
       " u'Runyankore-rukiga_Nkore-kiga-Latin1',\n",
       " u'Russian-Cyrillic',\n",
       " u'Russian-UTF8',\n",
       " u'Russian_Russky-Cyrillic',\n",
       " u'Russian_Russky-UTF8',\n",
       " u'Sami_Lappish-UTF8',\n",
       " u'Sammarinese-Latin1',\n",
       " u'Samoan-Latin1',\n",
       " u'Sango_Sangho-Latin1',\n",
       " u'Sanskrit-UTF8',\n",
       " u'Saraiki-UTF8',\n",
       " u'Sardinian-Latin1',\n",
       " u'ScottishGaelic_GaidhligAlbanach-Latin1',\n",
       " u'Seereer-UTF8',\n",
       " u'Serbian_Srpski-Cyrillic',\n",
       " u'Serbian_Srpski-Latin2',\n",
       " u'Serbian_Srpski-UTF8',\n",
       " u'Sharanahua-Latin1',\n",
       " u'Shipibo-Conibo-Latin1',\n",
       " u'Shona-Latin1',\n",
       " u'Sinhala-UTF8',\n",
       " u'Siswati-Latin1',\n",
       " u'Slovak-Latin2',\n",
       " u'Slovak_Slovencina-Latin2',\n",
       " u'Slovenian_Slovenscina-Latin2',\n",
       " u'SolomonsPidgin_Pijin-Latin1',\n",
       " u'Somali-Latin1',\n",
       " u'Soninke_Soninkanxaane-UTF8',\n",
       " u'Sorbian-Latin2',\n",
       " u'SouthernSotho_Sotho-Sesotho-Sutu-Sesutu-Latin1',\n",
       " u'Spanish-Latin1',\n",
       " u'Spanish_Espanol-Latin1',\n",
       " u'Sukuma-Latin1',\n",
       " u'Sundanese-Latin1',\n",
       " u'Sussu_Soussou-Sosso-Soso-Susu-UTF8',\n",
       " u'Swaheli-Latin1',\n",
       " u'Swahili_Kiswahili-Latin1',\n",
       " u'Swedish_Svenska-Latin1',\n",
       " u'Tahitian-UTF8',\n",
       " u'Tenek_Huasteco-Latin1',\n",
       " u'Tetum-Latin1',\n",
       " u'Themne_Temne-UTF8',\n",
       " u'Tiv-Latin1',\n",
       " u'Toba-UTF8',\n",
       " u'Tojol-abal-Latin1',\n",
       " u'TokPisin-Latin1',\n",
       " u'Tonga-Latin1',\n",
       " u'Tongan_Tonga-Latin1',\n",
       " u'Totonaco-Latin1',\n",
       " u'Trukese_Chuuk-Latin1',\n",
       " u'Turkish_Turkce-Turkish',\n",
       " u'Turkish_Turkce-UTF8',\n",
       " u'Tzeltal-Latin1',\n",
       " u'Tzotzil-Latin1',\n",
       " u'Uighur_Uyghur-Latin1',\n",
       " u'Uighur_Uyghur-UTF8',\n",
       " u'Ukrainian-Cyrillic',\n",
       " u'Ukrainian-UTF8',\n",
       " u'Umbundu-Latin1',\n",
       " u'Urarina-Latin1',\n",
       " u'Uzbek-Latin1',\n",
       " u'Vietnamese-ALRN-UTF8',\n",
       " u'Vietnamese-UTF8',\n",
       " u'Vlach-Latin1',\n",
       " u'Walloon_Wallon-Latin1',\n",
       " u'Wama-UTF8',\n",
       " u'Waray-Latin1',\n",
       " u'Wayuu-Latin1',\n",
       " u'Welsh_Cymraeg-Latin1',\n",
       " u'WesternSotho_Tswana-Setswana-Latin1',\n",
       " u'Wolof-Latin1',\n",
       " u'Xhosa-Latin1',\n",
       " u'Yagua-Latin1',\n",
       " u'Yao-Latin1',\n",
       " u'Yapese-Latin1',\n",
       " u'Yoruba-UTF8',\n",
       " u'Zapoteco-Latin1',\n",
       " u'Zapoteco-SanLucasQuiavini-Latin1',\n",
       " u'Zhuang-Latin1',\n",
       " u'Zulu-Latin1']"
      ]
     },
     "execution_count": 36,
     "metadata": {},
     "output_type": "execute_result"
    }
   ],
   "source": [
    "nltk.corpus.udhr.fileids()"
   ]
  },
  {
   "cell_type": "code",
   "execution_count": 57,
   "metadata": {
    "collapsed": false
   },
   "outputs": [
    {
     "data": {
      "text/plain": [
       "u'Lisakoli ya molongo ya makoki ya moto Maloba ya yambo Na botalaka \\x91 te kondima limemya ya bato nyonso ya molongo pe makoki ma bango oyo ezali ndenge moko pe bakoki kopimela moto te ezali tina ya bonsomi , bosembo pe kimpa kati ya molongo . Na botalaka \\x91 te komona pamba pe koboya kotosa esengeli ya moto ebatelama na bokonzi ya bosembo po te , na sima yango , moto akoma na botombiki esongo na minyokoli te , Na botalaka \\x91 te esengeli kolendisa boyokani na kati ya bikolo , Na botalaka \\x91 te na kati ya Mokanda ya Mibeko ya Lisanga ya Bikolo ya Molongo , bato ya molongo bayebisi lisusu lolenge bandimi maloki ya tina yo moto , limemya pe lokumu ya moto , bokokani ya makoki ya basi pe mibali pe na botalaka \\x91 te bango bayebisi \\x91 te bazwi mokano ya kobongisa ezaleli ya moto pe kosala \\x91 te moto azwa bomoi malamu penza na kati ya bonsomi ya monene penza , Na botalaka \\x91 te kozala bato nyonso na makanisi ndenge moko po na makoki pe bonsomi yango , ezali na tina monene po \\x91 te oyo bakani elonga , LIKITA MONENE ezali koyebisa LISAKOLI YA MOLONGO OYO YA MAKOKI YA MOTO lokola eloko oyo bato pe bikolo nyonso balingi babwa , po te bato pe mangomba nyonso , na bobatelaka tango nyonso Lisakoli yango na moteme , basala makasi na boteyi pe bokolisi bwanya , po \\x91 te makoki pe bonsomi yango etosama pe basala \\x91 te bandima pe basalela yango na bosolo penza na molongo mobimba , ezala na kati ya bato ya Bikolo ya Lisanga bango moko to na kati ya ekolo pe molongo mobimba . ETENI YA yambo ( 1 ) Bato nyonso na mbotama bazali nzomi pe bakokani na limemya pe makoki . Bazali na mayele pe base , geli kofanda na bondeko okati na bango . ETENI YA 2 Moto nyonso azali na makoki pe bonsomi nyonso oyo elimbolami na kati ya Lisakoli oyo , bokeseni ata moke te , na mambi matali loposo ya nzoto , bomwasi to bobali , lokota , lingomba ya nzambe , makanisi ya politiki to ya ndenge mosusu , ekolo to longomba ya bato , bokulaka , mbotama to makambo mosusu . Epai mosusu , na botalaka eloko ya moto , epikisami kosala bokeseni na mambi matali mibeko ya politiki , mibeko ya bosambisi to ya boyokani na mikili mosusu , ezala ekolo to mabele ya nsomi to oyo eyangelemani na bauta , to oyo ezwi bonsomi ya sikisiki te . ETENI YA 3 Moto nyonso azali na likoki ya kozala na bomoi , a kozala somi pe kozala motema sei na bomoto na ye . ETENI YA 4 Moto ata moke te asengeli kozala moumbu ; boumbu pe boteki baumbu epikisami na ndenge nyonso . ETENI YA 5 Moto ata moke te asengeli konyokama pe kosalelama makambo ya bonyama pe oyo ezanga bomoto na lokumu . ETENI YA 6 Moto nyonso azali na likoki \\x91 te bayeba makoki na ye bipai nyonso . ETENI YA 7 Bato nyonso bakokani liboso ya mobeko pe bazali na likoki ya kobatelama na mobeko se ndenge moko . Banso bazali na likoki ya kobatelama se ndenge moko esongo na bikela nyonso ya bokesenisi elongobani te na Lisakoli oyo pe esengo na bikela nyonso oyo ekobota bokesenisi yango . ETENI YA 8 Moto nyonso azali na likoki ya koluka lisalisi ya solo penza na liboso ya mangomba ya bosambisi ya ekolo oyo ezali na bwanya esongo na bikela oyo ekotangola maloki ya tina endimami na mibeko po na ye . ETENI YA 9 Moto moko te akoki kokangama to kobengisama tina te . ETENI YA 10 Moto nyonso azali na likoki \\x91 te likambo na ye lokola ya bato nyonso , essambisama na bosembo pe na miso ya bato nyonso na esambiselo ya somi pe ya epai moko te , oyo ekozwa mikano engebene na makoki pe masenginia ye to engebene na bosolo ya likambo ye afundami . ETENI YA 11 1 . Moto nyonso oyo afundami na likambo azali naino maboko pembe tee tango bakotatola engebene na mobeko , mabe ye asali , na libanza oyo ekosalama na miso ya bato nyonso , epai wapi manso esengeli kosalama po te mofundami azwa na ye . 2 . Moto ata moko te asengeli kozwa etumbu po na makambo to botiki oyo , tango esalamaki , ezalikaki naino mbeba te , engebene na mibeko ya ekolo to ya molongo . So lolenge yango , bakoki te kopesa moto etumbu koleka oyo ezalaka kopesama na tango likambo esalamaki . ETENI YA 12 Moto ata moko te akoki kokota pamba na makambo etali ezaleli , libota , ndako pe mikanda ya ngana to pe kobebisa lokumu na ye . Moto nyonso azali na likoki ya kobatelama na mobeko esongo na bikota - kota yango . ETENI YA 13 1 . Moto nyonso azali na makoki ya kotambola ndenge alingi pe kopona esika ya kovanda kati ya ekolo . 2 . Moto nyonso azali na makoki ya kotika ekolo nyonso ata ya ye moko po na kokenda na ekolo mosusu ; ye akoki pe kozonga na ekolo na ye . ETENI YA 14 1 . Na liboso ya monyokoli , moto nyonso azali na likoki ya koluka pe kozwa esika ya kobomba nzoto na bikolo mosusu . 2 . Likoki yango likopesama te na moto afundami na likambo ya makasi to na bikela oyo elongombani te na mibeko ya Linsaga ya Bikolo ya Molongo . ETENI YA 15 1 . Moto nyonso azali na likoki ya koyebana mosi - ekolo . 2 . Bakoki te kopimela moto likoki ya kozala mosi - ekolo to ya kokoma moto ya ekolo mosusu . ETENI YA 16 1 . Soki mobu ya kobalana ekoki , mobali pe mwasi bakoki kokwelana pe kotonga libota pe masimbisi ezala te na makambo etali loposo , ekolo to longomba ya nzambe . Bango bazali na makoki se ndenge moko na makambo etali makwela , ezala tango ya makwela to tango ya bokabwani . 2 . Libala ekoki kosalama se soki mwasi na mobali bango mei bandimi na motema moko . 3 . Libala ezali longomba ya tina po na bato pe ezali na likoki ya kobatelama na bato pe Leta . ETENI YA 17 1 . Moto nyonso azala ye moko to na kati ya lisanga , azali na likoki ya mokolo - ekolo . 2 . Bakoki ata moke te kopimela to kobotola moto eloko na ye soki tina ezali te . ETENI YA 18 Moto nyonso azali na likoki , ya kozala na makanisi na ye , mayele na ye ya motema pe lingomba na ye ya nzambe ; likoki yango ekopesa ye ndingisa ya kopona lingomba ya nzambe to kobongola makanisi na ye , ye moko to elongo na baninga , ezala na miso ya bato ya mei ; na boteyi , na bikela , na bokumisi nzambe pe milulu . ETENI YA 19 Moto nyonso azali na likoki ya bokanisi pe bolobi ; yango ekopesa ye ndingisa ya kozala na bomo na motema te likolo ya makanisi na ye ndingisa ya koluka , kozwa pe kopanza mayebisi na makanisi esika na esika , na ndenge alingi koyebisa yango . ETENI YA 20 1 . Moto nyonso azali na likoki ya kozala na likita pe lingomba oyo ezali na kinya . 2 . Ekoki te kosengama na makasi te moto akota na lingomba . ETENI YA 21 1 . Moto nyonso azali na likoki ya kotia maboko na bokambi misala ya ekolo na ye ezala ye moko to na batoma ye moko aponi . 2 . Moto nyonso azali na likoki , lokola baninga nyonso ya kosala misala ya Leta . 3 . Bolingi yango esengeli komonana na maponi ya sembo oyo esengeli kosalama mbala na mbala , na liponeli ya bato nyonso pe na boponi ya Lingomba to na ndenge mosusu ekokani na yango pe ekosala \\x91 te bato bapona na bonsomi nyonso . ETENI YA 22 Moto nyonso , lokola azali moko ya lingomba , azali na likoki ya kozwa lisalisi ya esalelo - lisungi , oyo ezali na ndingisa ya kopesa moto makoki ya ye ya mosolo , ya bomoi pe ezaleli , po na lokumu pe bokoli malamu ya bomoto na ye , na lisalisi ya bokasi ya ekolo pe ya boyokani ya mikili na mikili , engebene na mwango pe bokulaka ya ekolo na ekolo . ETENI YA 23 1 . Moto nyonso azali na likoki ya kozwa mosala , ya kopona mosala ye alingi , na ndenge ya sembo elongobani na mosala , pe basengeli kobatela ya esongo na bosomele . 2 . Bato nyonso bazali na likoki , bokeseni ata te , ya kozwa lifuta ekokani po na mosala ekokani . 3 . Moto nyonso akosala , azali na likoki ya kozwa lifuta ya sembo pe elongobani , oyo ekosala te ye na libota na ye bazwa bomoi elongobani na lokumu ya moto , pe ekoki kobongisama lisusu na ndenge nyonso ya bobateli bomoi . 4 . Moto nyonso azali na likoki ya kokela basendika elongo na baninga pe kokota na basendika po na kokengela maloki na ye . ETENI YA 24 Moto nyonso azali na likoki ya bopemisi pe bopemisi nzoto , mingi ya bozwui eleko ya sembo ya boumeli na mosala pe na bozwi lifuta na bakonzi ya mbala na mbala . ETENI YA 25 1 . Moto nyonso azali na likoki ya kobikela na ndenge elongobani po \\x91 te azwa bokolongonu , bozala malamu ya ye pe ya libota na ye epusi na makambo etali kolia , kolata , kovanda , kosalisa nzoto pe kosungama na ndenge esengeli ; ye azali na likoki ya kosalisama na tango ya bosemele , bokono , bosele , bozenge , bobange to na tango mosusu ye akozanga mosolo ya kobikela na sima ya makambo esalami na bolinga na ye te . 2 . Bomama pe bomwana ezali na likoki ya kosungama na ndenge elongobani . Mwana nyonso abotama kati ya makwela to na libanda asengeli kobatelama to ndenge moko . ETENI YA 26 1 . Moto nyonso azali na likoki ya bokolisi bwanya pe mayele . Mateya esengeli kopesama pamba , mosolo te , ata na bakelasi ya mabandela . Mateya ya mabandela esengeni kopesama na moto nyonso . Mateya ya tekiniki pe ya mosala esengeli kopesama bipai nyonso ; eposa ya kozwa mateya ya kelasi ya minene esengeli kopesama na bato nyonso , se ndenge moko , engebene na mayele na bango . 2 . Bokolisi bwanya pe mayele esengeli kosala te moto akola na ndenge nyonso pe atosa malamu penza makoki pe bonsomi ya tina na moto . Yango esengeli komema boyokani , boboto , bolingo kati ya bikolo pe mangomba ya bato oyo loposo pe boyambi ekeseni ; yango pe esengeli kobongisa misala ya Lisanga ya Bikolo ya Molongo po na bobateli kimya . 3 . Baboti bazali na likoki ya yambo , ya boponi ndenge ya mateya esengeli kopesama na bana na bango . ETENI YA 27 1 . Moto nyonso azali na likoki ya kotia maboko ndenge alingi na misala ya bokolisi bwanyaya lingomba , kopesela na nkoti , pe kotia maboko na botomboli zebi pe bolamu ya yango . 2 . Moto nyonso azali na likoki \\x91 te matomba ya misala ya ye ya zebi , ya bokomi pe ya nkoti ebatelama . ETENI YA 28 Moto nyonso azali na likoki \\x91 te kati ya bato pe bikolo , nyonso ebonga po te makoki pe bonsomi oyo ekomami kati ya Lisakoli oyo elonga . ETENI YA 29 1 . Moto azali na mikumba epai ya lingomba oyo ekopesa ye eposa ya bokolisi bomoto na ye na ndenge elongobani . 2 . Moto nyonso , na botalaka makoki pe bonsomi na ye , asengeli kosala se mikumba oyo eyebani na mobeko se po \\x91 te bayeba pe bakumisa maloki pe bonsomi ya baninga , pe po na kotosa mibeko ya sembo ya ezalela kinya ya bato pe bozali malamu kati ya lingomba ya boyangeli lisanga . 3 . Mako'"
      ]
     },
     "execution_count": 57,
     "metadata": {},
     "output_type": "execute_result"
    }
   ],
   "source": [
    "#nltk.Text(nltk.corpus.udhr.words('Albanian_Shqip-Latin1')).collocations()\n",
    "\n",
    "' '.join(list(nltk.Text(nltk.corpus.udhr.words('Lingala-Latin1'))))"
   ]
  },
  {
   "cell_type": "code",
   "execution_count": 66,
   "metadata": {
    "collapsed": false
   },
   "outputs": [
    {
     "data": {
      "text/plain": [
       "[u'a.',\n",
       " u'a42128',\n",
       " u'aaa',\n",
       " u'aaberg',\n",
       " u'aachen',\n",
       " u'aachener',\n",
       " u'aaker',\n",
       " u'aalseth',\n",
       " u'aamodt',\n",
       " u'aancor',\n",
       " u'aardema',\n",
       " u'aaron',\n",
       " u\"aaron's\",\n",
       " u'aarons',\n",
       " u'aaronson',\n",
       " u'aaronson',\n",
       " u\"aaronson's\",\n",
       " u\"aaronson's\",\n",
       " u'aarti',\n",
       " u'aase',\n",
       " u'aasen',\n",
       " u'ab',\n",
       " u'ab',\n",
       " u'ababa',\n",
       " u'ababa',\n",
       " u'abacha',\n",
       " u'abaco',\n",
       " u'abad',\n",
       " u'abadaka',\n",
       " u'abadi',\n",
       " u'abadie',\n",
       " u'abair',\n",
       " u'abalkin',\n",
       " u'abalos',\n",
       " u'abandoning',\n",
       " u'abandonments',\n",
       " u'abandons',\n",
       " u'abanto',\n",
       " u'abarca',\n",
       " u'abare',\n",
       " u'abascal',\n",
       " u'abated',\n",
       " u'abatements',\n",
       " u'abates',\n",
       " u'abating',\n",
       " u'abba',\n",
       " u'abbado',\n",
       " u'abbate',\n",
       " u'abbatiello',\n",
       " u'abbe',\n",
       " u'abbe',\n",
       " u'abbenhaus',\n",
       " u'abbett',\n",
       " u'abbeville',\n",
       " u\"abbey's\",\n",
       " u'abbie',\n",
       " u'abbitt',\n",
       " u'abbotstown',\n",
       " u'abbott',\n",
       " u\"abbott's\",\n",
       " u'abbottstown',\n",
       " u'abboud',\n",
       " u'abboud',\n",
       " u'abbreviated',\n",
       " u'abbreviated',\n",
       " u'abbreviates',\n",
       " u'abbreviating',\n",
       " u'abbreviations',\n",
       " u'abbruzzese',\n",
       " u'abbs',\n",
       " u'abby',\n",
       " u'abco',\n",
       " u'abcotek',\n",
       " u'abdalla',\n",
       " u'abdallah',\n",
       " u'abdel',\n",
       " u'abdella',\n",
       " u'abdicated',\n",
       " u'abdicates',\n",
       " u'abdicating']"
      ]
     },
     "execution_count": 66,
     "metadata": {},
     "output_type": "execute_result"
    }
   ],
   "source": [
    "[x[0] for x in nltk.corpus.cmudict.entries()[:100] if not x[0] in nltk.corpus.words.words()]"
   ]
  },
  {
   "cell_type": "code",
   "execution_count": 71,
   "metadata": {
    "collapsed": false
   },
   "outputs": [
    {
     "data": {
      "text/plain": [
       "[u'A',\n",
       " u'aa',\n",
       " u'aal',\n",
       " u'aalii',\n",
       " u'aam',\n",
       " u'Aani',\n",
       " u'aardwolf',\n",
       " u'Aaron',\n",
       " u'Aaronic',\n",
       " u'Aaronical',\n",
       " u'Aaronite',\n",
       " u'Aaronitic',\n",
       " u'Aaru',\n",
       " u'Ab',\n",
       " u'aba',\n",
       " u'Ababdeh',\n",
       " u'Ababua',\n",
       " u'abac',\n",
       " u'abaca',\n",
       " u'abacate',\n",
       " u'abacay',\n",
       " u'abacinate',\n",
       " u'abacination',\n",
       " u'abaciscus',\n",
       " u'abacist',\n",
       " u'abactinal',\n",
       " u'abactinally',\n",
       " u'abaction',\n",
       " u'abactor',\n",
       " u'abaculus',\n",
       " u'Abadite',\n",
       " u'abaff',\n",
       " u'abaft',\n",
       " u'abaisance',\n",
       " u'abaiser',\n",
       " u'abaissed',\n",
       " u'abalienate',\n",
       " u'abalienation',\n",
       " u'Abama',\n",
       " u'abampere',\n",
       " u'abandonable',\n",
       " u'abandonedly',\n",
       " u'abandonee',\n",
       " u'abandoner',\n",
       " u'Abanic',\n",
       " u'Abantes',\n",
       " u'abaptiston',\n",
       " u'Abarambo',\n",
       " u'Abaris',\n",
       " u'abarthrosis',\n",
       " u'abarticular',\n",
       " u'abarticulation',\n",
       " u'abas',\n",
       " u'abase',\n",
       " u'abased',\n",
       " u'abasedly',\n",
       " u'abasedness',\n",
       " u'abasement',\n",
       " u'abaser',\n",
       " u'Abasgi',\n",
       " u'abashedly',\n",
       " u'abashedness',\n",
       " u'abashless',\n",
       " u'abashlessly',\n",
       " u'abashment',\n",
       " u'abasia',\n",
       " u'abasic',\n",
       " u'abask',\n",
       " u'Abassin',\n",
       " u'abastardize',\n",
       " u'abatable',\n",
       " u'abater',\n",
       " u'abatis',\n",
       " u'abatised',\n",
       " u'abaton',\n",
       " u'abator',\n",
       " u'abattoir',\n",
       " u'Abatua',\n",
       " u'abature',\n",
       " u'abave',\n",
       " u'abaxial',\n",
       " u'abaxile',\n",
       " u'abaze',\n",
       " u'abb',\n",
       " u'Abba',\n",
       " u'abbacomes',\n",
       " u'abbacy',\n",
       " u'Abbadide']"
      ]
     },
     "execution_count": 71,
     "metadata": {},
     "output_type": "execute_result"
    }
   ],
   "source": [
    "[x for x in nltk.corpus.words.words()[:100] if not x in nltk.corpus.cmudict.words()]"
   ]
  },
  {
   "cell_type": "code",
   "execution_count": 69,
   "metadata": {
    "collapsed": false
   },
   "outputs": [
    {
     "name": "stdout",
     "output_type": "stream",
     "text": [
      "133737\n",
      "236736\n"
     ]
    }
   ],
   "source": [
    "print len(nltk.corpus.cmudict.words())\n",
    "print len(nltk.corpus.words.words())"
   ]
  },
  {
   "cell_type": "code",
   "execution_count": 72,
   "metadata": {
    "collapsed": false
   },
   "outputs": [],
   "source": [
    "entries = nltk.corpus.cmudict.entries()\n",
    "sorted(set(wfor w, pron in entries if pron[0] == 'N' and w[0] != 'n'))"
   ]
  },
  {
   "cell_type": "code",
   "execution_count": 86,
   "metadata": {
    "collapsed": false
   },
   "outputs": [
    {
     "data": {
      "text/html": [
       "<div>\n",
       "<table border=\"1\" class=\"dataframe\">\n",
       "  <thead>\n",
       "    <tr style=\"text-align: right;\">\n",
       "      <th></th>\n",
       "      <th>0</th>\n",
       "      <th>1</th>\n",
       "      <th>2</th>\n",
       "    </tr>\n",
       "  </thead>\n",
       "  <tbody>\n",
       "    <tr>\n",
       "      <th>0</th>\n",
       "      <td>já</td>\n",
       "      <td>ja</td>\n",
       "      <td>I</td>\n",
       "    </tr>\n",
       "    <tr>\n",
       "      <th>5</th>\n",
       "      <td>ona</td>\n",
       "      <td>ony</td>\n",
       "      <td>they</td>\n",
       "    </tr>\n",
       "    <tr>\n",
       "      <th>6</th>\n",
       "      <td>toto</td>\n",
       "      <td>to</td>\n",
       "      <td>this</td>\n",
       "    </tr>\n",
       "    <tr>\n",
       "      <th>7</th>\n",
       "      <td>tamto</td>\n",
       "      <td>to</td>\n",
       "      <td>that</td>\n",
       "    </tr>\n",
       "    <tr>\n",
       "      <th>10</th>\n",
       "      <td>kdo</td>\n",
       "      <td>kto</td>\n",
       "      <td>who</td>\n",
       "    </tr>\n",
       "    <tr>\n",
       "      <th>11</th>\n",
       "      <td>co</td>\n",
       "      <td>čo</td>\n",
       "      <td>what</td>\n",
       "    </tr>\n",
       "    <tr>\n",
       "      <th>13</th>\n",
       "      <td>kdy</td>\n",
       "      <td>keď</td>\n",
       "      <td>when</td>\n",
       "    </tr>\n",
       "    <tr>\n",
       "      <th>14</th>\n",
       "      <td>jak</td>\n",
       "      <td>ako</td>\n",
       "      <td>how</td>\n",
       "    </tr>\n",
       "    <tr>\n",
       "      <th>15</th>\n",
       "      <td>ne</td>\n",
       "      <td>nie</td>\n",
       "      <td>not</td>\n",
       "    </tr>\n",
       "    <tr>\n",
       "      <th>16</th>\n",
       "      <td>všechno</td>\n",
       "      <td>všetko</td>\n",
       "      <td>all</td>\n",
       "    </tr>\n",
       "    <tr>\n",
       "      <th>17</th>\n",
       "      <td>mnoho</td>\n",
       "      <td>veľa</td>\n",
       "      <td>many</td>\n",
       "    </tr>\n",
       "    <tr>\n",
       "      <th>18</th>\n",
       "      <td>trocha</td>\n",
       "      <td>niekoľko</td>\n",
       "      <td>some</td>\n",
       "    </tr>\n",
       "    <tr>\n",
       "      <th>19</th>\n",
       "      <td>nemnoho</td>\n",
       "      <td>málo</td>\n",
       "      <td>few</td>\n",
       "    </tr>\n",
       "    <tr>\n",
       "      <th>23</th>\n",
       "      <td>tři</td>\n",
       "      <td>tri</td>\n",
       "      <td>three</td>\n",
       "    </tr>\n",
       "    <tr>\n",
       "      <th>24</th>\n",
       "      <td>čtyři</td>\n",
       "      <td>štyri</td>\n",
       "      <td>four</td>\n",
       "    </tr>\n",
       "    <tr>\n",
       "      <th>25</th>\n",
       "      <td>pět</td>\n",
       "      <td>päť</td>\n",
       "      <td>five</td>\n",
       "    </tr>\n",
       "    <tr>\n",
       "      <th>26</th>\n",
       "      <td>velký</td>\n",
       "      <td>veľký</td>\n",
       "      <td>big</td>\n",
       "    </tr>\n",
       "    <tr>\n",
       "      <th>27</th>\n",
       "      <td>dlouhý</td>\n",
       "      <td>dlhý</td>\n",
       "      <td>long</td>\n",
       "    </tr>\n",
       "    <tr>\n",
       "      <th>29</th>\n",
       "      <td>hrubý</td>\n",
       "      <td>tučný</td>\n",
       "      <td>thick</td>\n",
       "    </tr>\n",
       "    <tr>\n",
       "      <th>30</th>\n",
       "      <td>těžký</td>\n",
       "      <td>ťažký</td>\n",
       "      <td>heavy</td>\n",
       "    </tr>\n",
       "    <tr>\n",
       "      <th>32</th>\n",
       "      <td>krátký</td>\n",
       "      <td>krátky</td>\n",
       "      <td>short</td>\n",
       "    </tr>\n",
       "    <tr>\n",
       "      <th>33</th>\n",
       "      <td>úzký</td>\n",
       "      <td>úzky</td>\n",
       "      <td>narrow</td>\n",
       "    </tr>\n",
       "    <tr>\n",
       "      <th>37</th>\n",
       "      <td>člověk</td>\n",
       "      <td>človek</td>\n",
       "      <td>man (human being)</td>\n",
       "    </tr>\n",
       "    <tr>\n",
       "      <th>38</th>\n",
       "      <td>dítě</td>\n",
       "      <td>dieťa</td>\n",
       "      <td>child</td>\n",
       "    </tr>\n",
       "    <tr>\n",
       "      <th>39</th>\n",
       "      <td>choť</td>\n",
       "      <td>žena</td>\n",
       "      <td>wife</td>\n",
       "    </tr>\n",
       "    <tr>\n",
       "      <th>40</th>\n",
       "      <td>choť</td>\n",
       "      <td>manžel</td>\n",
       "      <td>husband</td>\n",
       "    </tr>\n",
       "    <tr>\n",
       "      <th>41</th>\n",
       "      <td>mateř</td>\n",
       "      <td>matka</td>\n",
       "      <td>mother</td>\n",
       "    </tr>\n",
       "    <tr>\n",
       "      <th>43</th>\n",
       "      <td>zvíře</td>\n",
       "      <td>zviera</td>\n",
       "      <td>animal</td>\n",
       "    </tr>\n",
       "    <tr>\n",
       "      <th>45</th>\n",
       "      <td>pták</td>\n",
       "      <td>vták</td>\n",
       "      <td>bird</td>\n",
       "    </tr>\n",
       "    <tr>\n",
       "      <th>47</th>\n",
       "      <td>veš</td>\n",
       "      <td>voš</td>\n",
       "      <td>louse</td>\n",
       "    </tr>\n",
       "    <tr>\n",
       "      <th>...</th>\n",
       "      <td>...</td>\n",
       "      <td>...</td>\n",
       "      <td>...</td>\n",
       "    </tr>\n",
       "    <tr>\n",
       "      <th>154</th>\n",
       "      <td>sůl</td>\n",
       "      <td>soľ</td>\n",
       "      <td>salt</td>\n",
       "    </tr>\n",
       "    <tr>\n",
       "      <th>155</th>\n",
       "      <td>kámen</td>\n",
       "      <td>kameň</td>\n",
       "      <td>stone</td>\n",
       "    </tr>\n",
       "    <tr>\n",
       "      <th>156</th>\n",
       "      <td>písek</td>\n",
       "      <td>piesok</td>\n",
       "      <td>sand</td>\n",
       "    </tr>\n",
       "    <tr>\n",
       "      <th>158</th>\n",
       "      <td>země</td>\n",
       "      <td>zem</td>\n",
       "      <td>earth</td>\n",
       "    </tr>\n",
       "    <tr>\n",
       "      <th>159</th>\n",
       "      <td>oblak</td>\n",
       "      <td>mrak</td>\n",
       "      <td>cloud</td>\n",
       "    </tr>\n",
       "    <tr>\n",
       "      <th>160</th>\n",
       "      <td>mlha</td>\n",
       "      <td>hmla</td>\n",
       "      <td>fog</td>\n",
       "    </tr>\n",
       "    <tr>\n",
       "      <th>161</th>\n",
       "      <td>nebe</td>\n",
       "      <td>nebo</td>\n",
       "      <td>sky</td>\n",
       "    </tr>\n",
       "    <tr>\n",
       "      <th>162</th>\n",
       "      <td>vítr</td>\n",
       "      <td>vietor</td>\n",
       "      <td>wind</td>\n",
       "    </tr>\n",
       "    <tr>\n",
       "      <th>163</th>\n",
       "      <td>sníh</td>\n",
       "      <td>sneh</td>\n",
       "      <td>snow</td>\n",
       "    </tr>\n",
       "    <tr>\n",
       "      <th>164</th>\n",
       "      <td>led#Czech|led</td>\n",
       "      <td>ľad</td>\n",
       "      <td>ice</td>\n",
       "    </tr>\n",
       "    <tr>\n",
       "      <th>165</th>\n",
       "      <td>dým</td>\n",
       "      <td>dym</td>\n",
       "      <td>smoke</td>\n",
       "    </tr>\n",
       "    <tr>\n",
       "      <th>167</th>\n",
       "      <td>popel</td>\n",
       "      <td>popol</td>\n",
       "      <td>ashes</td>\n",
       "    </tr>\n",
       "    <tr>\n",
       "      <th>168</th>\n",
       "      <td>hořet</td>\n",
       "      <td>horieť</td>\n",
       "      <td>burn</td>\n",
       "    </tr>\n",
       "    <tr>\n",
       "      <th>169</th>\n",
       "      <td>cesta</td>\n",
       "      <td>hradská</td>\n",
       "      <td>road</td>\n",
       "    </tr>\n",
       "    <tr>\n",
       "      <th>170</th>\n",
       "      <td>hora</td>\n",
       "      <td>vrch</td>\n",
       "      <td>mountain</td>\n",
       "    </tr>\n",
       "    <tr>\n",
       "      <th>173</th>\n",
       "      <td>žlutý</td>\n",
       "      <td>žltý</td>\n",
       "      <td>yellow</td>\n",
       "    </tr>\n",
       "    <tr>\n",
       "      <th>174</th>\n",
       "      <td>bílý</td>\n",
       "      <td>biely</td>\n",
       "      <td>white</td>\n",
       "    </tr>\n",
       "    <tr>\n",
       "      <th>175</th>\n",
       "      <td>černý</td>\n",
       "      <td>čierny</td>\n",
       "      <td>black</td>\n",
       "    </tr>\n",
       "    <tr>\n",
       "      <th>177</th>\n",
       "      <td>den</td>\n",
       "      <td>deň</td>\n",
       "      <td>day</td>\n",
       "    </tr>\n",
       "    <tr>\n",
       "      <th>186</th>\n",
       "      <td>shnilý</td>\n",
       "      <td>hnilý</td>\n",
       "      <td>rotten</td>\n",
       "    </tr>\n",
       "    <tr>\n",
       "      <th>188</th>\n",
       "      <td>přímý</td>\n",
       "      <td>rovný</td>\n",
       "      <td>straight</td>\n",
       "    </tr>\n",
       "    <tr>\n",
       "      <th>189</th>\n",
       "      <td>kulatý</td>\n",
       "      <td>guľatý</td>\n",
       "      <td>round</td>\n",
       "    </tr>\n",
       "    <tr>\n",
       "      <th>195</th>\n",
       "      <td>správný</td>\n",
       "      <td>správny</td>\n",
       "      <td>correct</td>\n",
       "    </tr>\n",
       "    <tr>\n",
       "      <th>196</th>\n",
       "      <td>blízký</td>\n",
       "      <td>neďaleký</td>\n",
       "      <td>near</td>\n",
       "    </tr>\n",
       "    <tr>\n",
       "      <th>197</th>\n",
       "      <td>daleký</td>\n",
       "      <td>ďaleký</td>\n",
       "      <td>far</td>\n",
       "    </tr>\n",
       "    <tr>\n",
       "      <th>199</th>\n",
       "      <td>levý</td>\n",
       "      <td>ľavý</td>\n",
       "      <td>left</td>\n",
       "    </tr>\n",
       "    <tr>\n",
       "      <th>200</th>\n",
       "      <td>při</td>\n",
       "      <td>pri</td>\n",
       "      <td>at</td>\n",
       "    </tr>\n",
       "    <tr>\n",
       "      <th>204</th>\n",
       "      <td>jestli</td>\n",
       "      <td>ak</td>\n",
       "      <td>if</td>\n",
       "    </tr>\n",
       "    <tr>\n",
       "      <th>205</th>\n",
       "      <td>protože</td>\n",
       "      <td>pretože</td>\n",
       "      <td>because</td>\n",
       "    </tr>\n",
       "    <tr>\n",
       "      <th>206</th>\n",
       "      <td>jméno</td>\n",
       "      <td>meno</td>\n",
       "      <td>name</td>\n",
       "    </tr>\n",
       "  </tbody>\n",
       "</table>\n",
       "<p>148 rows × 3 columns</p>\n",
       "</div>"
      ],
      "text/plain": [
       "                 0         1                  2\n",
       "0               já        ja                  I\n",
       "5              ona       ony               they\n",
       "6             toto        to               this\n",
       "7            tamto        to               that\n",
       "10             kdo       kto                who\n",
       "11              co        čo               what\n",
       "13             kdy       keď               when\n",
       "14             jak       ako                how\n",
       "15              ne       nie                not\n",
       "16         všechno    všetko                all\n",
       "17           mnoho      veľa               many\n",
       "18          trocha  niekoľko               some\n",
       "19         nemnoho      málo                few\n",
       "23             tři       tri              three\n",
       "24           čtyři     štyri               four\n",
       "25             pět       päť               five\n",
       "26           velký     veľký                big\n",
       "27          dlouhý      dlhý               long\n",
       "29           hrubý     tučný              thick\n",
       "30           těžký     ťažký              heavy\n",
       "32          krátký    krátky              short\n",
       "33            úzký      úzky             narrow\n",
       "37          člověk    človek  man (human being)\n",
       "38            dítě     dieťa              child\n",
       "39            choť      žena               wife\n",
       "40            choť    manžel            husband\n",
       "41           mateř     matka             mother\n",
       "43           zvíře    zviera             animal\n",
       "45            pták      vták               bird\n",
       "47             veš       voš              louse\n",
       "..             ...       ...                ...\n",
       "154            sůl       soľ               salt\n",
       "155          kámen     kameň              stone\n",
       "156          písek    piesok               sand\n",
       "158           země       zem              earth\n",
       "159          oblak      mrak              cloud\n",
       "160           mlha      hmla                fog\n",
       "161           nebe      nebo                sky\n",
       "162           vítr    vietor               wind\n",
       "163           sníh      sneh               snow\n",
       "164  led#Czech|led       ľad                ice\n",
       "165            dým       dym              smoke\n",
       "167          popel     popol              ashes\n",
       "168          hořet    horieť               burn\n",
       "169          cesta   hradská               road\n",
       "170           hora      vrch           mountain\n",
       "173          žlutý      žltý             yellow\n",
       "174           bílý     biely              white\n",
       "175          černý    čierny              black\n",
       "177            den       deň                day\n",
       "186         shnilý     hnilý             rotten\n",
       "188          přímý     rovný           straight\n",
       "189         kulatý    guľatý              round\n",
       "195        správný   správny            correct\n",
       "196         blízký  neďaleký               near\n",
       "197         daleký    ďaleký                far\n",
       "199           levý      ľavý               left\n",
       "200            při       pri                 at\n",
       "204         jestli        ak                 if\n",
       "205        protože   pretože            because\n",
       "206          jméno      meno               name\n",
       "\n",
       "[148 rows x 3 columns]"
      ]
     },
     "execution_count": 86,
     "metadata": {},
     "output_type": "execute_result"
    }
   ],
   "source": [
    "t=DataFrame(nltk.corpus.swadesh.entries(['cs', 'sk','en']))\n",
    "t[t[0] != t[1]]"
   ]
  },
  {
   "cell_type": "code",
   "execution_count": 77,
   "metadata": {
    "collapsed": false
   },
   "outputs": [
    {
     "data": {
      "text/plain": [
       "[u'be',\n",
       " u'bg',\n",
       " u'bs',\n",
       " u'ca',\n",
       " u'cs',\n",
       " u'cu',\n",
       " u'de',\n",
       " u'en',\n",
       " u'es',\n",
       " u'fr',\n",
       " u'hr',\n",
       " u'it',\n",
       " u'la',\n",
       " u'mk',\n",
       " u'nl',\n",
       " u'pl',\n",
       " u'pt',\n",
       " u'ro',\n",
       " u'ru',\n",
       " u'sk',\n",
       " u'sl',\n",
       " u'sr',\n",
       " u'sw',\n",
       " u'uk']"
      ]
     },
     "execution_count": 77,
     "metadata": {},
     "output_type": "execute_result"
    }
   ],
   "source": [
    "nltk.corpus.swadesh.fileids()"
   ]
  },
  {
   "cell_type": "code",
   "execution_count": 126,
   "metadata": {
    "collapsed": false
   },
   "outputs": [
    {
     "name": "stdout",
     "output_type": "stream",
     "text": [
      "a piece of dishware normally used as a container for holding or serving food [u'dish']\n",
      "a particular item of prepared food [u'dish']\n",
      "the quantity that a dish will hold [u'dish', u'dishful']\n",
      "a very attractive or seductive looking woman [u'smasher', u'stunner', u'knockout', u'beauty', u'ravisher', u'sweetheart', u'peach', u'lulu', u'looker', u'mantrap', u'dish']\n",
      "directional antenna consisting of a parabolic reflector for microwave or radio frequency radiation [u'dish', u'dish_aerial', u'dish_antenna', u'saucer']\n",
      "an activity that you like or at which you are superior [u'cup_of_tea', u'bag', u'dish']\n",
      "provide (usually but not necessarily food) [u'serve', u'serve_up', u'dish_out', u'dish_up', u'dish']\n",
      "make concave; shape like a dish [u'dish']\n"
     ]
    }
   ],
   "source": [
    "\n",
    "\n",
    "from nltk.corpus import wordnet as wn\n",
    "\n",
    "\n",
    "for x in wn.synsets('dish'):\n",
    "    print x.definition(), x.lemma_names()\n"
   ]
  },
  {
   "cell_type": "code",
   "execution_count": 120,
   "metadata": {
    "collapsed": false
   },
   "outputs": [
    {
     "data": {
      "text/plain": [
       "[Lemma('dog.n.01.dog'),\n",
       " Lemma('dog.n.01.domestic_dog'),\n",
       " Lemma('dog.n.01.Canis_familiaris')]"
      ]
     },
     "execution_count": 120,
     "metadata": {},
     "output_type": "execute_result"
    }
   ],
   "source": [
    "wn.synset('dog.n.01').lemmas()\n"
   ]
  },
  {
   "cell_type": "code",
   "execution_count": 135,
   "metadata": {
    "collapsed": false
   },
   "outputs": [
    {
     "data": {
      "text/plain": [
       "[Synset('ceramic.n.01'),\n",
       " Synset('connection.n.03'),\n",
       " Synset('container.n.01'),\n",
       " Synset('conveyance.n.03'),\n",
       " Synset('device.n.01'),\n",
       " Synset('equipment.n.01'),\n",
       " Synset('furnishing.n.02'),\n",
       " Synset('hardware.n.02'),\n",
       " Synset('implement.n.01'),\n",
       " Synset('means.n.02'),\n",
       " Synset('medium.n.01'),\n",
       " Synset('system.n.01'),\n",
       " Synset('toiletry.n.01'),\n",
       " Synset('weaponry.n.01')]"
      ]
     },
     "execution_count": 135,
     "metadata": {},
     "output_type": "execute_result"
    }
   ],
   "source": [
    "wn.synset('instrumentality.n.03').hyponyms()"
   ]
  },
  {
   "cell_type": "code",
   "execution_count": 139,
   "metadata": {
    "collapsed": false
   },
   "outputs": [
    {
     "name": "stdout",
     "output_type": "stream",
     "text": [
      "[]\n",
      "[]\n",
      "[Synset('arouse.v.07'), Synset('disappoint.v.01')]\n"
     ]
    }
   ],
   "source": [
    "print wn.synset('tease.v.01').entailments()\n",
    "print wn.synset('tease.v.02').entailments()\n",
    "print wn.synset('tease.v.03').entailments()\n"
   ]
  },
  {
   "cell_type": "code",
   "execution_count": 143,
   "metadata": {
    "collapsed": false
   },
   "outputs": [
    {
     "data": {
      "text/plain": [
       "[]"
      ]
     },
     "execution_count": 143,
     "metadata": {},
     "output_type": "execute_result"
    }
   ],
   "source": [
    "wn.synset('harmony.n.01').lemmas()[0].antonyms()"
   ]
  },
  {
   "cell_type": "code",
   "execution_count": 5,
   "metadata": {
    "collapsed": false
   },
   "outputs": [],
   "source": [
    "url = \"http://www.gutenberg.org/files/2554/2554-0.txt\"\n",
    "raw = urlopen(url).read().decode('utf-8')\n"
   ]
  },
  {
   "cell_type": "code",
   "execution_count": 8,
   "metadata": {
    "collapsed": false
   },
   "outputs": [],
   "source": [
    "tokens = nltk.word_tokenize(raw)\n",
    "text = nltk.Text(tokens)\n"
   ]
  },
  {
   "cell_type": "code",
   "execution_count": 9,
   "metadata": {
    "collapsed": false
   },
   "outputs": [
    {
     "name": "stdout",
     "output_type": "stream",
     "text": [
      "Katerina Ivanovna; Pyotr Petrovitch; Pulcheria Alexandrovna; Avdotya\n",
      "Romanovna; Rodion Romanovitch; Marfa Petrovna; Sofya Semyonovna; old\n",
      "woman; Project Gutenberg-tm; Porfiry Petrovitch; Amalia Ivanovna;\n",
      "great deal; young man; Nikodim Fomitch; Ilya Petrovitch; Project\n",
      "Gutenberg; Andrey Semyonovitch; Hay Market; Dmitri Prokofitch; Good\n",
      "heavens\n"
     ]
    }
   ],
   "source": [
    "text.collocations()"
   ]
  },
  {
   "cell_type": "code",
   "execution_count": 10,
   "metadata": {
    "collapsed": false
   },
   "outputs": [
    {
     "name": "stdout",
     "output_type": "stream",
     "text": [
      "            very\n",
      "          veryvery\n",
      "        veryveryvery\n",
      "      veryveryveryvery\n",
      "    veryveryveryveryvery\n",
      "  veryveryveryveryveryvery\n",
      "veryveryveryveryveryveryvery\n",
      "  veryveryveryveryveryvery\n",
      "    veryveryveryveryvery\n",
      "      veryveryveryvery\n",
      "        veryveryvery\n",
      "          veryvery\n",
      "            very\n"
     ]
    }
   ],
   "source": [
    "a = [1, 2, 3, 4, 5, 6, 7, 6, 5, 4, 3, 2, 1]\n",
    "b = [' ' * 2 * (7 - i) + 'very' * i for i in a]\n",
    "for line in b:\n",
    "    print line"
   ]
  }
 ],
 "metadata": {
  "kernelspec": {
   "display_name": "Python 2",
   "language": "python",
   "name": "python2"
  },
  "language_info": {
   "codemirror_mode": {
    "name": "ipython",
    "version": 2
   },
   "file_extension": ".py",
   "mimetype": "text/x-python",
   "name": "python",
   "nbconvert_exporter": "python",
   "pygments_lexer": "ipython2",
   "version": "2.7.13"
  }
 },
 "nbformat": 4,
 "nbformat_minor": 2
}
