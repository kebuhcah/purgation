{
 "cells": [
  {
   "cell_type": "code",
   "execution_count": 1,
   "metadata": {
    "collapsed": true
   },
   "outputs": [],
   "source": [
    "from urllib2 import urlopen, Request\n",
    "from bs4 import BeautifulSoup\n",
    "from pandas import DataFrame\n",
    "import pandas as pd\n",
    "import numpy as np\n",
    "import re\n",
    "import os.path \n",
    "import datetime \n",
    "import sys\n",
    "import json\n",
    "import gc\n",
    "\n",
    "\n",
    "from __future__ import division\n",
    "\n",
    "import nltk,re, pprint\n",
    "\n",
    "%matplotlib inline\n",
    "import matplotlib\n",
    "import matplotlib.pyplot as plt\n",
    "matplotlib.style.use('ggplot')\n",
    "\n",
    "bs = BeautifulSoup(urlopen('http://www.playbill.com/article/broadway-real-estate-com-321997'))\n",
    "Theatres = DataFrame([{'name': a.getText(), 'url': a['href'], 'address': a.nextSibling[2:]} \n",
    "                      for a in bs.find_all(\"a\") if a.has_attr('href') and '/venue/' in a['href']])\n",
    "\n",
    "Shows = pd.read_csv('Shows.csv')\n",
    "\n",
    "def getTags(url):\n",
    "    bs = BeautifulSoup(urlopen('http://www.playbill.com' + url))\n",
    "    return sorted(set([x.getText() for x in bs.find_all('h5', class_='bsp-bio-sub-text')]))\n",
    "\n",
    "def getTagsFromBs(bs):\n",
    "    return sorted(set([x.getText() for x in bs.find_all('h5', class_='bsp-bio-sub-text')]))\n",
    "\n",
    "def seasonShows(season):\n",
    "    seasonJson = json.loads(''.join(urlopen('http://www.playbill.com/ajax/loadProdSeason.jsp?year='+str(season)+'&start=0&limit=1000').readlines()))\n",
    "    result = []\n",
    "    for row in seasonJson['rows']:\n",
    "\n",
    "        bs = BeautifulSoup(row)\n",
    "        if (bs.find('a').has_attr('href')):\n",
    "            result.append({'url':bs.find('a')['href'], 'title': bs.find('a').getText()})\n",
    "    return result\n",
    "\n",
    "def getProductionHtml(url):\n",
    "    if (not url.startswith('http://www.playbill.com')):\n",
    "        url = 'http://www.playbill.com' + url\n",
    "\n",
    "    filename = 'production/' + url.split('/')[-1] + '.html' \n",
    "\n",
    "    if (not os.path.isfile(filename)):\n",
    "        html = urlopen(url).read()\n",
    "        f = open(filename, \"w\")\n",
    "        f.write(html)\n",
    "        f.close()\n",
    "        print 'Wrote ' + filename\n",
    "    else:\n",
    "        print filename + ' already exists'\n",
    "\n",
    "def getHtmlForYear(year):\n",
    "    print 'Year: ' + str(year)\n",
    "    [getProductionHtml(x) for x in list(Shows[Shows['year']==year]['url'])]\n",
    "    "
   ]
  },
  {
   "cell_type": "code",
   "execution_count": 2,
   "metadata": {
    "collapsed": false
   },
   "outputs": [
    {
     "name": "stdout",
     "output_type": "stream",
     "text": [
      "2018-04-05 12:14:45.655129\n",
      "2000 . . . . . . . . . . . . . . . . . . . . . . . . . . . . 2018-04-05 12:14:48.528762\n",
      "2001 . . . . . . . . . . . . . . . . . . . . . . . . . . . . . . . . . . . . . . . 2018-04-05 12:14:52.276002\n",
      "2002 . . . . . . . . . . . . . . . . . . . . . . . . . . . . . . . . . . . . . . . . 2018-04-05 12:14:56.271694\n",
      "2003 . . . . . . . . . . . . . . . . . . . . . . . . . . . . . . . . . . . . . 2018-04-05 12:14:59.868765\n",
      "2004 . . . . . . . . . . . . . . . . . . . . . . . . . . . . . . . . . . . . . . . . . 2018-04-05 12:15:03.796489\n",
      "2005 . . . . . . . . . . . . . . . . . . . . . . . . . . . . . . . . . . . . . . . . . 2018-04-05 12:15:07.763270\n",
      "2006 . . . . . . . . . . . . . . . . . . . . . . . . . . . . . . . . . . . 2018-04-05 12:15:11.253353\n",
      "2007 . . . . . . . . . . . . . . . . . . . . . . . . . . . . . . . . . . . . . . 2018-04-05 12:15:14.836846\n",
      "2008 . . . . . . . . . . . . . . . . . . . . . . . . . . . . . . . . . . . . . . . . . . . 2018-04-05 12:15:18.978084\n",
      "2009 . . . . . . . . . . . . . . . . . . . . . . . . . . . . . . . . . . . . . . . 2018-04-05 12:15:22.683431\n",
      "2010 . . . . . . . . . . . . . . . . . . . . . . . . . . . . . . . . . . . . . . . . . . 2018-04-05 12:15:26.689734\n",
      "2011 . . . . . . . . . . . . . . . . . . . . . . . . . . . . . . . . . . . . . . . . . . 2018-04-05 12:15:30.640134\n",
      "2012 . . . . . . . . . . . . . . . . . . . . . . . . . . . . . . . . . . . . . . . . . . . . . . . 2018-04-05 12:15:35.134791\n",
      "2013 . . . . . . . . . . . . . . . . . . . . . . . . . . . . . . . . . . . . . . . . . . 2018-04-05 12:15:39.119253\n",
      "2014 . . . . . . . . . . . . . . . . . . . . . . . . . . . . . . . . . . . . . . . 2018-04-05 12:15:42.941454\n",
      "2015 . . . . . . . . . . . . . . . . . . . . . . . . . . . . . . . . . . . . . . . 2018-04-05 12:15:46.675305\n",
      "2016 . . . . . . . . . . . . . . . . . . . . . . . . . . . . . . . . . . . . . . . . . . . . . 2018-04-05 12:15:51.004081\n",
      "2017 . . . . . . . . . . . . . . . . . . . . . . . . . . . . . . . . . .\n"
     ]
    }
   ],
   "source": [
    "tagsForUrl = {}\n",
    "\n",
    "for year in range(2000,2018):\n",
    "    print datetime.datetime.now()\n",
    "    print year,\n",
    "    for url in list(Shows[Shows['year'] == year]['url']):\n",
    "        filename = (url + '.html')[1:]\n",
    "        if (os.path.isfile(filename)):\n",
    "            f = open(filename)\n",
    "            bs = BeautifulSoup(f.read())\n",
    "            f.close()\n",
    "            tagsForUrl[url] = '/'.join(getTagsFromBs(bs))\n",
    "            bs.decompose()\n",
    "            gc.collect() #BeautifulSoup memory leak!!!! :(((\n",
    "            print \".\",\n",
    "        else:\n",
    "            print filename + ' not found'\n",
    "    print\n",
    "print datetime.datetime.now()"
   ]
  },
  {
   "cell_type": "code",
   "execution_count": null,
   "metadata": {
    "collapsed": false
   },
   "outputs": [],
   "source": [
    "tagsForUrl"
   ]
  },
  {
   "cell_type": "code",
   "execution_count": null,
   "metadata": {
    "collapsed": false
   },
   "outputs": [],
   "source": [
    "print datetime.datetime.now()\n"
   ]
  },
  {
   "cell_type": "code",
   "execution_count": null,
   "metadata": {
    "collapsed": false,
    "scrolled": false
   },
   "outputs": [],
   "source": [
    "[getHtmlForYear(y) for y in range(1700,2018)]"
   ]
  },
  {
   "cell_type": "code",
   "execution_count": null,
   "metadata": {
    "collapsed": false
   },
   "outputs": [],
   "source": [
    "bss = [BeautifulSoup(urlopen(url)) for url in list(Theatres['url'])]"
   ]
  },
  {
   "cell_type": "code",
   "execution_count": null,
   "metadata": {
    "collapsed": false
   },
   "outputs": [],
   "source": [
    "nltk.Text(nltk.word_tokenize(''.join(theaterDescriptions))).collocations()"
   ]
  },
  {
   "cell_type": "code",
   "execution_count": null,
   "metadata": {
    "collapsed": false
   },
   "outputs": [],
   "source": [
    "theaterDescriptions = []\n",
    "\n",
    "for i in range(39):    \n",
    "    print i\n",
    "    \n",
    "    try:\n",
    "        bs = bss[i]\n",
    "\n",
    "        bspBio = bs.find('div', class_='bsp-bio')\n",
    "\n",
    "        bspBioTitle = bspBio.find('h2', class_='bsp-bio-title').getText()\n",
    "\n",
    "        print bspBioTitle\n",
    "\n",
    "        bspBioText = ''\n",
    "        bspBioFullTextUrl = ''\n",
    "        if (bspBio.find('div', class_='bsp-bio-text')):\n",
    "            bspBioText =  bspBio.find('div', class_='bsp-bio-text').getText('\\n')\n",
    "            if (bspBio.find('div', class_='bsp-bio-text').find('a')):\n",
    "                if (bspBio.find('div', class_='bsp-bio-text').find('a').has_attr('href')):\n",
    "                    bspBioFullTextUrl = bspBio.find('div', class_='bsp-bio-text').find('a')['href']\n",
    "\n",
    "        bspBioLists =bspBio.find('div', class_='bsp-bio-lists')\n",
    "        bspBioListPairs = [(re.sub(':$', '', li.find('span').getText()), li.find('span').nextSibling) for li in bspBioLists.find_all('li')]\n",
    "\n",
    "\n",
    "        print bspBioText\n",
    "        theaterDescriptions.append(bspBioText)\n",
    "        \n",
    "        print bspBioFullTextUrl\n",
    "        print bspBioListPairs\n",
    "    except:\n",
    "        print(\"Unexpected error:\", sys.exc_info()[0])"
   ]
  },
  {
   "cell_type": "code",
   "execution_count": null,
   "metadata": {
    "collapsed": false
   },
   "outputs": [],
   "source": [
    "t = DataFrame(theaterDescriptions)\n",
    "t[0]=t[0].str.strip()\n",
    "t.to_csv('theaterDescriptions.csv',index=False,encoding='utf-8')\n"
   ]
  },
  {
   "cell_type": "code",
   "execution_count": null,
   "metadata": {
    "collapsed": false
   },
   "outputs": [],
   "source": [
    "text = nltk.word_tokenize(theaterDescriptions[10])\n",
    "nltk.pos_tag(text)"
   ]
  },
  {
   "cell_type": "code",
   "execution_count": null,
   "metadata": {
    "collapsed": false
   },
   "outputs": [],
   "source": [
    "season2017 = json.loads(''.join(urlopen('http://www.playbill.com/ajax/loadProdSeason.jsp?year=2017&start=0&limit=1000').readlines()))\n"
   ]
  },
  {
   "cell_type": "code",
   "execution_count": null,
   "metadata": {
    "collapsed": false
   },
   "outputs": [],
   "source": [
    "\n",
    "\n",
    "Shows = DataFrame([{'year': year, 'url': x['url'], 'title': x['title']}  for year in range(1701,2018) for x in seasonShows(year)])\n",
    "\n",
    "Shows['title'] = Shows['title'].str.strip()\n",
    "\n",
    "Shows.to_csv('Shows.csv',index=False,encoding='utf-8')"
   ]
  },
  {
   "cell_type": "code",
   "execution_count": null,
   "metadata": {
    "collapsed": false,
    "scrolled": false
   },
   "outputs": [],
   "source": [
    "Shows.groupby('year').count()[['title']].plot.bar(figsize=(30,5))"
   ]
  },
  {
   "cell_type": "code",
   "execution_count": null,
   "metadata": {
    "collapsed": false
   },
   "outputs": [],
   "source": [
    "print len(Shows.groupby('url').count())\n",
    "print len(Shows)"
   ]
  },
  {
   "cell_type": "code",
   "execution_count": null,
   "metadata": {
    "collapsed": false,
    "scrolled": false
   },
   "outputs": [],
   "source": [
    "list(Shows[Shows['url'].str.contains('carousel')]['url'])"
   ]
  },
  {
   "cell_type": "code",
   "execution_count": null,
   "metadata": {
    "collapsed": false
   },
   "outputs": [],
   "source": [
    "carousels"
   ]
  },
  {
   "cell_type": "code",
   "execution_count": null,
   "metadata": {
    "collapsed": true
   },
   "outputs": [],
   "source": [
    "url =  '/production/carousel-2017-2018'\n",
    "\n",
    "url = 'http://www.playbill.com' + url\n",
    "\n",
    "bs = BeautifulSoup(urlopen(url))"
   ]
  },
  {
   "cell_type": "code",
   "execution_count": null,
   "metadata": {
    "collapsed": false
   },
   "outputs": [],
   "source": [
    "tags = [getTags(url) for url in list(Shows['url'])]"
   ]
  },
  {
   "cell_type": "code",
   "execution_count": null,
   "metadata": {
    "collapsed": false
   },
   "outputs": [],
   "source": [
    "getTags('/production/carousel-2017-2018')"
   ]
  },
  {
   "cell_type": "code",
   "execution_count": null,
   "metadata": {
    "collapsed": false
   },
   "outputs": [],
   "source": [
    "carousels= list(Shows[Shows['url'].str.contains('carousel')]['url'])"
   ]
  },
  {
   "cell_type": "code",
   "execution_count": null,
   "metadata": {
    "collapsed": true
   },
   "outputs": [],
   "source": [
    "previousShows = 'http://www.playbill.com/ajax/loadVenueShow.jsp?id=00000150-aa9f-d8be-af71-ffbf689b0003&start=0&limit=1000&venue=00000150-aacd-d8be-af71-ffef18860005'"
   ]
  },
  {
   "cell_type": "code",
   "execution_count": null,
   "metadata": {
    "collapsed": false
   },
   "outputs": [],
   "source": [
    "url='http://www.playbill.com/production/carousel-2017-2018'\n",
    "bs = BeautifulSoup(urlopen(url))\n",
    "\n",
    "[json.loads(x['data-bsp-carousel-options'])['themeConfig']['dynamicSlideLoadNextUrl'] for x \n",
    " in bs.find_all('div', class_='gallery-module gallery-module-horizontal')]"
   ]
  },
  {
   "cell_type": "code",
   "execution_count": null,
   "metadata": {
    "collapsed": false
   },
   "outputs": [],
   "source": [
    "url='http://www.playbill.com/venue/imperial-theatre-vault-0000000201'\n",
    "bs = BeautifulSoup(urlopen(url))\n",
    "\n",
    "[json.loads(x['data-bsp-carousel-options'])['themeConfig']['dynamicSlideLoadNextUrl'] for x \n",
    " in bs.find_all('div', class_='gallery-module gallery-module-horizontal')]"
   ]
  },
  {
   "cell_type": "code",
   "execution_count": null,
   "metadata": {
    "collapsed": true
   },
   "outputs": [],
   "source": [
    "url='http://www.playbill.com/production/carousel-2017-2018'\n",
    "bs = BeautifulSoup(urlopen(url))"
   ]
  },
  {
   "cell_type": "code",
   "execution_count": null,
   "metadata": {
    "collapsed": false
   },
   "outputs": [],
   "source": []
  },
  {
   "cell_type": "code",
   "execution_count": null,
   "metadata": {
    "collapsed": false
   },
   "outputs": [],
   "source": [
    "getProductionHtml('http://www.playbill.com/production/carousel-2017-2018')\n"
   ]
  },
  {
   "cell_type": "code",
   "execution_count": null,
   "metadata": {
    "collapsed": false
   },
   "outputs": [],
   "source": [
    "str(urlopen(url))"
   ]
  },
  {
   "cell_type": "code",
   "execution_count": null,
   "metadata": {
    "collapsed": false
   },
   "outputs": [],
   "source": [
    "url.startswith('http://www.playbill.com/')"
   ]
  },
  {
   "cell_type": "code",
   "execution_count": null,
   "metadata": {
    "collapsed": false
   },
   "outputs": [],
   "source": [
    "f = open('production/my-fair-lady-uris-theatre-vault-0000011053.html', \"r\")\n",
    "bs = BeautifulSoup(f.read())\n",
    "f.close()\n",
    "\n",
    "bs"
   ]
  },
  {
   "cell_type": "code",
   "execution_count": null,
   "metadata": {
    "collapsed": false
   },
   "outputs": [],
   "source": [
    "[json.loads(x['data-bsp-carousel-options'])['themeConfig']['dynamicSlideLoadNextUrl'] for x \n",
    " in bs.find_all('div', class_='gallery-module gallery-module-horizontal')]"
   ]
  },
  {
   "cell_type": "code",
   "execution_count": null,
   "metadata": {
    "collapsed": false
   },
   "outputs": [],
   "source": [
    "getTagsFromBs(bs)"
   ]
  },
  {
   "cell_type": "code",
   "execution_count": null,
   "metadata": {
    "collapsed": false
   },
   "outputs": [],
   "source": []
  }
 ],
 "metadata": {
  "kernelspec": {
   "display_name": "Python 2",
   "language": "python",
   "name": "python2"
  },
  "language_info": {
   "codemirror_mode": {
    "name": "ipython",
    "version": 2
   },
   "file_extension": ".py",
   "mimetype": "text/x-python",
   "name": "python",
   "nbconvert_exporter": "python",
   "pygments_lexer": "ipython2",
   "version": "2.7.13"
  }
 },
 "nbformat": 4,
 "nbformat_minor": 2
}
